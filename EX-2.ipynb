{
 "cells": [
  {
   "cell_type": "code",
   "execution_count": null,
   "metadata": {},
   "outputs": [],
   "source": [
    "import pandas as pd\n",
    "import numpy as np\n",
    "import matplotlib.pyplot as plt\n",
    "#import libraries to find mae, mse\n",
    "\n",
    "#read csv file\n",
    "df=pd.read_csv('student_scores.csv')\n",
    "#displaying the content in datafile\n",
    "df.head()\n",
    "df.tail()"
   ]
  },
  {
   "cell_type": "code",
   "execution_count": null,
   "metadata": {},
   "outputs": [],
   "source": [
    "#splitting train and test data\n",
    "from sklearn.model_selection import train_test_split\n",
    "x_train,x_test,y_train,y_test=train_test_split(x,y,test_size=1/3,random_state=0)"
   ]
  },
  {
   "cell_type": "code",
   "execution_count": null,
   "metadata": {},
   "outputs": [],
   "source": [
    "#import linear regression model and fit the model with the data\n",
    "from sklearn.linear_model import LinearRegression\n",
    "regressor = LinearRegression()\n",
    "regressor.fit(x_train,y_train)"
   ]
  },
  {
   "cell_type": "code",
   "execution_count": null,
   "metadata": {},
   "outputs": [],
   "source": [
    "#displaying predicted values\n",
    "from sklearn.model_selection import train_test_split\n",
    "x_train,x_test,y_train,y_test=train_test_split(x,y,test_size=1/3,random_state=0)\n",
    "from sklearn.linear_model import LinearRegression\n",
    "regressor = LinearRegression()\n",
    "regressor.fit(x_train,y_train)\n",
    "y_pred = regressor.predict(x_test)\n",
    "y_pred\n",
    "y_test"
   ]
  },
  {
   "cell_type": "code",
   "execution_count": null,
   "metadata": {},
   "outputs": [],
   "source": [
    "#displaying actual values\n",
    "x = df.iloc[:,:-1].values\n",
    "x\n",
    "y = df.iloc[:,1].values\n",
    "y"
   ]
  },
  {
   "cell_type": "code",
   "execution_count": null,
   "metadata": {},
   "outputs": [],
   "source": [
    "#graph plot for training data\n",
    "plt.scatter(x_train,y_train,color='black')\n",
    "plt.plot(x_train,regressor.predict(x_train),color='purple')\n",
    "plt.title(\"Hours vs Scores(Training set)\")\n",
    "plt.xlabel(\"Hours\")\n",
    "plt.ylabel(\"Scores\")\n",
    "plt.show()"
   ]
  },
  {
   "cell_type": "code",
   "execution_count": null,
   "metadata": {},
   "outputs": [],
   "source": [
    "#graph plot for test data\n",
    "plt.scatter(x_test,y_test,color='red')\n",
    "plt.plot(x_train,regressor.predict(x_train),color='blue')\n",
    "plt.title(\"Hours vs Scores(Testing set)\")\n",
    "plt.xlabel(\"Hours\")\n",
    "plt.ylabel(\"Scores\")\n",
    "plt.show()"
   ]
  },
  {
   "cell_type": "code",
   "execution_count": null,
   "metadata": {},
   "outputs": [],
   "source": [
    "#find mae,mse,rmse\n",
    "mse=mean_absolute_error(y_test,y_pred)\n",
    "print('MSE = ',mse)\n",
    "mae=mean_absolute_error(y_test,y_pred)\n",
    "print('MAE = ',mae)\n",
    "rmse=np.sqrt(mse)\n",
    "print(\"RMSE= \",rmse)"
   ]
  }
 ],
 "metadata": {
  "language_info": {
   "name": "python"
  }
 },
 "nbformat": 4,
 "nbformat_minor": 2
}
